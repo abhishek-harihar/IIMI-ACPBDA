{
  "nbformat": 4,
  "nbformat_minor": 0,
  "metadata": {
    "colab": {
      "provenance": [],
      "authorship_tag": "ABX9TyMxVwpM90bqo/E8h2Cpz56I",
      "include_colab_link": true
    },
    "kernelspec": {
      "name": "python3",
      "display_name": "Python 3"
    },
    "language_info": {
      "name": "python"
    }
  },
  "cells": [
    {
      "cell_type": "markdown",
      "metadata": {
        "id": "view-in-github",
        "colab_type": "text"
      },
      "source": [
        "<a href=\"https://colab.research.google.com/github/abhishek-harihar/IIMI-ACPBDA/blob/main/Numpy_and_Pandas.ipynb\" target=\"_parent\"><img src=\"https://colab.research.google.com/assets/colab-badge.svg\" alt=\"Open In Colab\"/></a>"
      ]
    },
    {
      "cell_type": "code",
      "execution_count": 2,
      "metadata": {
        "id": "KB6xZls9cVpT"
      },
      "outputs": [],
      "source": [
        "import numpy as np"
      ]
    },
    {
      "cell_type": "code",
      "source": [
        "my_list=[1,2,3,4,5]"
      ],
      "metadata": {
        "id": "ldPTY-MXlVs2"
      },
      "execution_count": 3,
      "outputs": []
    },
    {
      "cell_type": "code",
      "source": [
        "type(my_list)"
      ],
      "metadata": {
        "colab": {
          "base_uri": "https://localhost:8080/"
        },
        "id": "Zg2dtr-OlcJv",
        "outputId": "cb1b583a-8d7d-434c-af8b-610d0b04669b"
      },
      "execution_count": 4,
      "outputs": [
        {
          "output_type": "execute_result",
          "data": {
            "text/plain": [
              "list"
            ]
          },
          "metadata": {},
          "execution_count": 4
        }
      ]
    },
    {
      "cell_type": "code",
      "source": [
        "my_array=np.array(my_list)  #.array() function is used to convert list to array"
      ],
      "metadata": {
        "id": "OTqqyTIflefM"
      },
      "execution_count": 5,
      "outputs": []
    },
    {
      "cell_type": "code",
      "source": [
        "type(my_array)"
      ],
      "metadata": {
        "colab": {
          "base_uri": "https://localhost:8080/"
        },
        "id": "g8BJFiCqlnQF",
        "outputId": "89bdcf62-43c3-44a3-b2c8-31e0c456399c"
      },
      "execution_count": 6,
      "outputs": [
        {
          "output_type": "execute_result",
          "data": {
            "text/plain": [
              "numpy.ndarray"
            ]
          },
          "metadata": {},
          "execution_count": 6
        }
      ]
    },
    {
      "cell_type": "code",
      "source": [
        "#2 dimensional array\n",
        "my_list_1=[1,2,3,4,5]\n",
        "my_list_2=[11,12,13,14,15]\n",
        "my_list_3=[21,22,23,24,25]"
      ],
      "metadata": {
        "id": "c_AMY9T2lpew"
      },
      "execution_count": 7,
      "outputs": []
    },
    {
      "cell_type": "code",
      "source": [
        "arr=np.array([my_list_1,my_list_2,my_list_3])"
      ],
      "metadata": {
        "id": "2OhwD6tumSDL"
      },
      "execution_count": 8,
      "outputs": []
    },
    {
      "cell_type": "code",
      "source": [
        "print(arr)"
      ],
      "metadata": {
        "colab": {
          "base_uri": "https://localhost:8080/"
        },
        "id": "kSN0W8b9ma2h",
        "outputId": "e2bf7a7f-2a4a-4e4d-c9d9-fbbe47e6973a"
      },
      "execution_count": 9,
      "outputs": [
        {
          "output_type": "stream",
          "name": "stdout",
          "text": [
            "[[ 1  2  3  4  5]\n",
            " [11 12 13 14 15]\n",
            " [21 22 23 24 25]]\n"
          ]
        }
      ]
    },
    {
      "cell_type": "code",
      "source": [
        "type(arr)"
      ],
      "metadata": {
        "colab": {
          "base_uri": "https://localhost:8080/"
        },
        "id": "AlLe1JUumc1Q",
        "outputId": "66119102-4a44-44c2-9d59-18a480ba4ff6"
      },
      "execution_count": 10,
      "outputs": [
        {
          "output_type": "execute_result",
          "data": {
            "text/plain": [
              "numpy.ndarray"
            ]
          },
          "metadata": {},
          "execution_count": 10
        }
      ]
    },
    {
      "cell_type": "code",
      "source": [
        "arr.shape #here 3 is number of rows and 5 is number of columns"
      ],
      "metadata": {
        "colab": {
          "base_uri": "https://localhost:8080/"
        },
        "id": "5Km6dzr6mfw4",
        "outputId": "72ca4636-bc31-4e18-deb0-1e381120c2d8"
      },
      "execution_count": 11,
      "outputs": [
        {
          "output_type": "execute_result",
          "data": {
            "text/plain": [
              "(3, 5)"
            ]
          },
          "metadata": {},
          "execution_count": 11
        }
      ]
    },
    {
      "cell_type": "code",
      "source": [
        "arr.reshape(5,3)"
      ],
      "metadata": {
        "colab": {
          "base_uri": "https://localhost:8080/"
        },
        "id": "3K8j716-mosr",
        "outputId": "852abcf8-12cf-4ea1-c8b8-3df4eec9dba1"
      },
      "execution_count": 12,
      "outputs": [
        {
          "output_type": "execute_result",
          "data": {
            "text/plain": [
              "array([[ 1,  2,  3],\n",
              "       [ 4,  5, 11],\n",
              "       [12, 13, 14],\n",
              "       [15, 21, 22],\n",
              "       [23, 24, 25]])"
            ]
          },
          "metadata": {},
          "execution_count": 12
        }
      ]
    },
    {
      "cell_type": "code",
      "source": [
        "new_arr=np.array([[1,2,3,4],\n",
        " [5,6,7,8],\n",
        "  [9,10,11,12]])"
      ],
      "metadata": {
        "id": "693yxhcrocCZ"
      },
      "execution_count": 13,
      "outputs": []
    },
    {
      "cell_type": "code",
      "source": [
        "print(new_arr)"
      ],
      "metadata": {
        "colab": {
          "base_uri": "https://localhost:8080/"
        },
        "id": "y2hqWn9kpSSq",
        "outputId": "3054e39d-465b-45bf-f3bd-75fd7e78e06d"
      },
      "execution_count": 14,
      "outputs": [
        {
          "output_type": "stream",
          "name": "stdout",
          "text": [
            "[[ 1  2  3  4]\n",
            " [ 5  6  7  8]\n",
            " [ 9 10 11 12]]\n"
          ]
        }
      ]
    },
    {
      "cell_type": "code",
      "source": [
        "new_arr=new_arr.reshape(2,2,3)"
      ],
      "metadata": {
        "id": "0JVfv2kcpUOq"
      },
      "execution_count": 15,
      "outputs": []
    },
    {
      "cell_type": "code",
      "source": [
        "print(new_arr)"
      ],
      "metadata": {
        "colab": {
          "base_uri": "https://localhost:8080/"
        },
        "id": "e2UyfZJvpa2a",
        "outputId": "83fcff69-6a73-4a4f-96aa-00f42e202c3b"
      },
      "execution_count": 16,
      "outputs": [
        {
          "output_type": "stream",
          "name": "stdout",
          "text": [
            "[[[ 1  2  3]\n",
            "  [ 4  5  6]]\n",
            "\n",
            " [[ 7  8  9]\n",
            "  [10 11 12]]]\n"
          ]
        }
      ]
    },
    {
      "cell_type": "code",
      "source": [
        "new_arr=new_arr.reshape(3,2,2)"
      ],
      "metadata": {
        "id": "DrY4i6_Mpcpe"
      },
      "execution_count": 17,
      "outputs": []
    },
    {
      "cell_type": "code",
      "source": [
        "print(new_arr)"
      ],
      "metadata": {
        "colab": {
          "base_uri": "https://localhost:8080/"
        },
        "id": "5zymGBM9rGYe",
        "outputId": "ec856e1d-5f21-43f6-9d26-98c51ef6c605"
      },
      "execution_count": 18,
      "outputs": [
        {
          "output_type": "stream",
          "name": "stdout",
          "text": [
            "[[[ 1  2]\n",
            "  [ 3  4]]\n",
            "\n",
            " [[ 5  6]\n",
            "  [ 7  8]]\n",
            "\n",
            " [[ 9 10]\n",
            "  [11 12]]]\n"
          ]
        }
      ]
    },
    {
      "cell_type": "code",
      "source": [
        "# basic operations on single array\n",
        "\n",
        "a=np.array([1,2,3,4,5])\n",
        "\n",
        "print(\"add 1 to each element\",a+1)\n",
        "\n",
        "print(\"multiply 2 to each element\",a*2)\n",
        "\n",
        "print(\"square each element\",a*a)  #a**2 for square\n",
        "\n",
        "print(\"subtract 3 to each element\",a-3)"
      ],
      "metadata": {
        "colab": {
          "base_uri": "https://localhost:8080/"
        },
        "id": "VvHVC2VhrIr6",
        "outputId": "75082517-441f-4a25-9687-082887d40aa6"
      },
      "execution_count": 19,
      "outputs": [
        {
          "output_type": "stream",
          "name": "stdout",
          "text": [
            "add 1 to each element [2 3 4 5 6]\n",
            "multiply 2 to each element [ 2  4  6  8 10]\n",
            "square each element [ 1  4  9 16 25]\n",
            "subtract 3 to each element [-2 -1  0  1  2]\n"
          ]
        }
      ]
    },
    {
      "cell_type": "code",
      "source": [
        "#unary operations\n",
        "#binary operations"
      ],
      "metadata": {
        "id": "DR_yy2UsttF8"
      },
      "execution_count": null,
      "outputs": []
    }
  ]
}